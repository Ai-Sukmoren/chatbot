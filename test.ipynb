{
 "cells": [
  {
   "cell_type": "code",
   "execution_count": null,
   "metadata": {},
   "outputs": [],
   "source": []
  },
  {
   "cell_type": "code",
   "execution_count": 1,
   "metadata": {},
   "outputs": [],
   "source": [
    "from dotenv import load_dotenv\n",
    "from langchain_openai import AzureChatOpenAI, ChatOpenAI\n",
    "from langchain.schema.output_parser import StrOutputParser\n",
    "from langchain.graphs import Neo4jGraph\n",
    "from operator import itemgetter\n",
    "# Load environment variables from .env file\n",
    "from functools import wraps\n",
    "import time\n",
    "import os\n",
    "import time  \n",
    "load_dotenv()\n",
    "\n",
    "AZURE_OPENAI_ENDPOINT=os.getenv(\"AZURE_OPENAI_ENDPOINT\")\n",
    "AZURE_OPENAI_API_KEY=os.getenv(\"AZURE_OPENAI_KEY\")\n",
    "\n",
    "\n",
    "# llm = AzureChatOpenAI(\n",
    "#     azure_endpoint=AZURE_OPENAI_ENDPOINT,\n",
    "#     openai_api_version='2023-03-15-preview',\n",
    "#     azure_deployment='gpt-4',\n",
    "#     openai_api_key=AZURE_OPENAI_API_KEY,\n",
    "# )\n",
    "\n",
    "llm = ChatOpenAI(\n",
    "    api_key='sk-proj-gfA9WQMdhwOmo2lOMFtAT3BlbkFJ9qwC52ExKO4FTTatmUNH',\n",
    "    model='gpt-4o', \n",
    ")\n",
    "\n",
    "\n",
    "def FuncTimeRet(func):\n",
    "    @wraps(func)\n",
    "    def wrapper(*args, **kwargs):\n",
    "        ts = time.perf_counter()\n",
    "        ret = func(*args, **kwargs)\n",
    "        te = time.perf_counter()\n",
    "        print(f'>>-- {func.__name__}: takes {te - ts:0.4f} seconds --<<')\n",
    "        return ret\n",
    "    return wrapper"
   ]
  },
  {
   "cell_type": "code",
   "execution_count": 2,
   "metadata": {},
   "outputs": [
    {
     "data": {
      "text/plain": [
       "AIMessage(content='Hello! How can I assist you today?')"
      ]
     },
     "execution_count": 2,
     "metadata": {},
     "output_type": "execute_result"
    }
   ],
   "source": [
    "llm.invoke('hi')"
   ]
  },
  {
   "cell_type": "code",
   "execution_count": 2,
   "metadata": {},
   "outputs": [
    {
     "name": "stderr",
     "output_type": "stream",
     "text": [
      "c:\\Users\\Ai Sukmoren\\Desktop\\kmitl-chatbot\\.venv\\lib\\site-packages\\tqdm\\auto.py:21: TqdmWarning: IProgress not found. Please update jupyter and ipywidgets. See https://ipywidgets.readthedocs.io/en/stable/user_install.html\n",
      "  from .autonotebook import tqdm as notebook_tqdm\n",
      "100%|██████████| 1/1 [00:07<00:00,  7.25s/it]"
     ]
    },
    {
     "name": "stdout",
     "output_type": "stream",
     "text": [
      "PDF saved to C:\\Users\\Ai Sukmoren\\Desktop\n"
     ]
    },
    {
     "name": "stderr",
     "output_type": "stream",
     "text": [
      "\n"
     ]
    }
   ],
   "source": [
    "from docx2pdf import convert\n",
    "import os\n",
    "\n",
    "# Define the path to the Word document\n",
    "word_file_path = r\"C:\\Users\\Ai Sukmoren\\OneDrive\\project research\\The Impact of Discrimination in the Workplace-DESKTOP-UB36V5M.docx\"\n",
    "\n",
    "# Define the output directory (Desktop)\n",
    "output_directory = os.path.join(os.path.expanduser(\"~\"), \"Desktop\")\n",
    "\n",
    "# Convert the Word document to PDF\n",
    "convert(word_file_path, output_directory)\n",
    "\n",
    "print(f\"PDF saved to {output_directory}\")\n"
   ]
  }
 ],
 "metadata": {
  "kernelspec": {
   "display_name": ".venv",
   "language": "python",
   "name": "python3"
  },
  "language_info": {
   "codemirror_mode": {
    "name": "ipython",
    "version": 3
   },
   "file_extension": ".py",
   "mimetype": "text/x-python",
   "name": "python",
   "nbconvert_exporter": "python",
   "pygments_lexer": "ipython3",
   "version": "3.9.6"
  }
 },
 "nbformat": 4,
 "nbformat_minor": 2
}
