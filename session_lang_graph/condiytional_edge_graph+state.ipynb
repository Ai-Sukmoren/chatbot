{
 "cells": [
  {
   "cell_type": "code",
   "execution_count": 1,
   "metadata": {},
   "outputs": [],
   "source": [
    "from typing import Dict, TypedDict, Optional\n",
    "from langgraph.graph import StateGraph, END\n",
    "import os\n",
    "import sys\n",
    "\n",
    "# Add the parent directory of 'utilities' to the Python path\n",
    "sys.path.append(r'C:\\Users\\Ai Sukmoren\\Desktop\\chatbot')\n",
    "from utilities.llms import llm"
   ]
  },
  {
   "cell_type": "code",
   "execution_count": 16,
   "metadata": {},
   "outputs": [],
   "source": [
    "class GraphState(TypedDict):\n",
    "    question: Optional[str] = None\n",
    "    classification: Optional[str] = None\n",
    "    response: Optional[str] = None\n",
    "\n",
    "workflow = StateGraph(GraphState)\n",
    "\n",
    "\n",
    "def classify(question):\n",
    "    return llm.invoke(f\"classify intent of given input as greeting or not_greeting. Output just the class. Input:{question}\").content\n",
    "\n",
    "def classify_input_node(state):\n",
    "    question = state.get('question', '').strip()\n",
    "    classification = classify(question)\n",
    "    return {\"classification\": classification}\n",
    "\n",
    "def handle_greeting_node(state):\n",
    "    return {\"response\": \"Hello! How can I help you today?\"}\n",
    "\n",
    "def handle_llm(state):\n",
    "    question = state.get('question', '').strip()\n",
    "    return {\"response\": llm.invoke(question).content}\n",
    "\n",
    "def bye(state):\n",
    "    current_response = state.get('response')\n",
    "    return {\"response\": current_response + \". The graph has finished\"}\n",
    "\n",
    "workflow.add_node(\"classify_input\", classify_input_node)\n",
    "workflow.add_node(\"handle_greeting\", handle_greeting_node)\n",
    "workflow.add_node(\"handle_llm\", handle_llm)\n",
    "workflow.add_node(\"bye\", bye)\n"
   ]
  },
  {
   "cell_type": "code",
   "execution_count": 17,
   "metadata": {},
   "outputs": [],
   "source": [
    "workflow.set_entry_point(\"classify_input\")\n",
    "workflow.add_edge('handle_greeting', END)\n",
    "workflow.add_edge(\"handle_llm\", \"bye\")\n",
    "workflow.add_edge('bye', END)"
   ]
  },
  {
   "cell_type": "code",
   "execution_count": 18,
   "metadata": {},
   "outputs": [],
   "source": [
    "def decide_next_node(state):\n",
    "    return \"handle_greeting\" if state.get('classification') == \"greeting\" else \"handle_llm\"\n",
    "\n",
    "workflow.add_conditional_edges(\n",
    "    \"classify_input\",\n",
    "    decide_next_node,\n",
    "    {\n",
    "        \"handle_greeting\": \"handle_greeting\",\n",
    "        \"handle_llm\": \"handle_llm\"\n",
    "    }\n",
    ")"
   ]
  },
  {
   "cell_type": "code",
   "execution_count": 19,
   "metadata": {},
   "outputs": [
    {
     "data": {
      "text/plain": [
       "{'question': 'what is 2 + 2',\n",
       " 'classification': 'not_greeting',\n",
       " 'response': '2 + 2 equals 4.. The graph has finished'}"
      ]
     },
     "execution_count": 19,
     "metadata": {},
     "output_type": "execute_result"
    }
   ],
   "source": [
    "app = workflow.compile()\n",
    "app.invoke({'question': 'what is 2 + 2'})"
   ]
  },
  {
   "cell_type": "code",
   "execution_count": null,
   "metadata": {},
   "outputs": [
    {
     "name": "stdout",
     "output_type": "stream",
     "text": [
      "           +-----------+               \n",
      "           | __start__ |               \n",
      "           +-----------+               \n",
      "                  *                    \n",
      "                  *                    \n",
      "                  *                    \n",
      "        +----------------+             \n",
      "        | classify_input |             \n",
      "        +----------------+             \n",
      "            ..        ..               \n",
      "          ..            ..             \n",
      "         .                ..           \n",
      "+------------+              .          \n",
      "| handle_llm |              .          \n",
      "+------------+              .          \n",
      "       *                    .          \n",
      "       *                    .          \n",
      "       *                    .          \n",
      "    +-----+       +-----------------+  \n",
      "    | bye |       | handle_greeting |  \n",
      "    +-----+*      +-----------------+  \n",
      "            **        **               \n",
      "              **    **                 \n",
      "                *  *                   \n",
      "            +---------+                \n",
      "            | __end__ |                \n",
      "            +---------+                \n"
     ]
    }
   ],
   "source": [
    "app.get_graph().print_ascii()\n"
   ]
  }
 ],
 "metadata": {
  "kernelspec": {
   "display_name": ".venv",
   "language": "python",
   "name": "python3"
  },
  "language_info": {
   "codemirror_mode": {
    "name": "ipython",
    "version": 3
   },
   "file_extension": ".py",
   "mimetype": "text/x-python",
   "name": "python",
   "nbconvert_exporter": "python",
   "pygments_lexer": "ipython3",
   "version": "3.9.6"
  }
 },
 "nbformat": 4,
 "nbformat_minor": 2
}
