{
 "cells": [
  {
   "cell_type": "code",
   "execution_count": 7,
   "metadata": {},
   "outputs": [],
   "source": [
    "import sys\n",
    "import os\n",
    "\n",
    "# Add the parent directory of 'utilities' to the Python path\n",
    "sys.path.append(r'C:\\Users\\Ai Sukmoren\\Desktop\\chatbot')\n",
    "\n",
    "from dotenv import load_dotenv\n",
    "from utilities.llms import llm\n",
    "import os\n",
    "from langchain.prompts import PromptTemplate\n",
    "from langchain_community.tools import YouTubeSearchTool\n",
    "from langchain_community.graphs import Neo4jGraph\n",
    "from langchain.chains import GraphCypherQAChain\n",
    "from langchain.prompts import PromptTemplate\n",
    "from IPython.display import display, HTML\n",
    "from utilities.llms import llm\n",
    "import os\n",
    "import ast\n",
    "import re\n",
    "import ast\n",
    "\n",
    "\n",
    "# Load the environment variables from .env file\n",
    "load_dotenv()\n",
    "\n",
    "# Now you can access these variables using os.getenv\n",
    "url=os.getenv('NE04J_CONN_URL') \n",
    "username=os.getenv('NEO4J_USERNAME') \n",
    "password=os.getenv('NEO4J_PASSWORD')\n",
    "database=os.getenv('NE04J_DB')"
   ]
  },
  {
   "cell_type": "code",
   "execution_count": 9,
   "metadata": {},
   "outputs": [
    {
     "data": {
      "text/html": [
       "\n",
       "    Here is your video link:\"https://www.youtube.com/watch?v=kqtD5dpn9C8&pp=ygUgSG93IHRvIGxlYXJuIFB5dGhvbiBwcm9ncmFtbWluZz8%3D\" target=\"_blank\">Watch the video</a></p>\n",
       "    <img src=\"https://img.youtube.com/vi/kqtD5dpn9C8/0.jpg\" alt=\"Thumbnail\" style=\"width:320px;height:180px;\">\n",
       "    "
      ],
      "text/plain": [
       "<IPython.core.display.HTML object>"
      ]
     },
     "metadata": {},
     "output_type": "display_data"
    },
    {
     "data": {
      "text/plain": [
       "'\\n    Here is your video link:\"https://www.youtube.com/watch?v=kqtD5dpn9C8&pp=ygUgSG93IHRvIGxlYXJuIFB5dGhvbiBwcm9ncmFtbWluZz8%3D\" target=\"_blank\">Watch the video</a></p>\\n    <img src=\"https://img.youtube.com/vi/kqtD5dpn9C8/0.jpg\" alt=\"Thumbnail\" style=\"width:320px;height:180px;\">\\n    '"
      ]
     },
     "execution_count": 9,
     "metadata": {},
     "output_type": "execute_result"
    }
   ],
   "source": [
    "def get_youtube_link(ques):\n",
    "    youtube = YouTubeSearchTool()\n",
    "    result = youtube.run(ques)\n",
    "    # Convert the string representation of the list back into a Python list\n",
    "    result_list = ast.literal_eval(result)\n",
    "\n",
    "    # Extract the first link\n",
    "    first_link = result_list[0]\n",
    "    \n",
    "    # Extract video ID from the URL\n",
    "    video_id = re.search(r'(?<=v=)[^&#]+', first_link).group()\n",
    "\n",
    "    # Construct the thumbnail URL\n",
    "    thumbnail_url = f'https://img.youtube.com/vi/{video_id}/0.jpg'\n",
    "\n",
    "    # Use HTML to display a clickable link with a thumbnail image\n",
    "    display_text = \"Watch the video\"  # Custom text for the link\n",
    "\n",
    "    template = PromptTemplate.from_template(\n",
    "        \"\"\"\n",
    "        Your task is to create a short brief about a video user is looking for in an excited tone\n",
    "        Instruction:\n",
    "        - Limit the word length to 50 words\n",
    "    \n",
    "        User prompt to find video on YouTube: {ques}\n",
    "    \n",
    "        \"\"\"\n",
    "    )\n",
    "    \n",
    "    response = f\"\"\"\n",
    "    Here is your video link:\"{first_link}\" target=\"_blank\">{display_text}</a></p>\n",
    "    <img src=\"{thumbnail_url}\" alt=\"Thumbnail\" style=\"width:320px;height:180px;\">\n",
    "    \"\"\"\n",
    "    \n",
    "    # Display the response as HTML\n",
    "    display(HTML(response))\n",
    "\n",
    "    return response\n",
    "\n",
    "# Example usage\n",
    "ques = \"How to learn Python programming?\"\n",
    "get_youtube_link(ques)"
   ]
  },
  {
   "cell_type": "code",
   "execution_count": null,
   "metadata": {},
   "outputs": [],
   "source": [
    "graph = Neo4jGraph(url=os.getenv('NE04J_CONN_URL'), \n",
    "                    username=os.getenv('NEO4J_USERNAME'), \n",
    "                    password=os.getenv('NEO4J_PASSWORD'),\n",
    "                    database=os.getenv('NE04J_DB'))\n",
    "\n",
    "prompt = \"\"\"\n",
    "You are an expert Neo4j Developer translating user questions into Cypher to answer questions about movies and provide recommendations.\n",
    "Convert the user's question based on the schema.\n",
    "\n",
    "instruction:\n",
    "- all animes is in lower cases\n",
    "- all nodes include Anime and Genre\n",
    "\n",
    "Varibales:\n",
    "Schema {schema},\n",
    "Question {question}\n",
    "\"\"\"\n",
    "\n",
    "cypher_generation_prompt = PromptTemplate(\n",
    "    template=prompt,\n",
    "    input_variables=[\"schema\", \"question\"],\n",
    ")\n",
    "\n",
    "cypher_chain = GraphCypherQAChain.from_llm(\n",
    "    llm=llm,\n",
    "    graph=graph,\n",
    "    cypher_prompt=cypher_generation_prompt,\n",
    "    verbose=True\n",
    ")\n",
    "\n",
    "question = \"What is the top 3 highest anime rating where rating is not null\"\n",
    "res = cypher_chain.invoke(question)\n",
    "res = res['result']\n",
    "res"
   ]
  }
 ],
 "metadata": {
  "kernelspec": {
   "display_name": ".venv",
   "language": "python",
   "name": "python3"
  },
  "language_info": {
   "codemirror_mode": {
    "name": "ipython",
    "version": 3
   },
   "file_extension": ".py",
   "mimetype": "text/x-python",
   "name": "python",
   "nbconvert_exporter": "python",
   "pygments_lexer": "ipython3",
   "version": "3.9.6"
  }
 },
 "nbformat": 4,
 "nbformat_minor": 2
}
